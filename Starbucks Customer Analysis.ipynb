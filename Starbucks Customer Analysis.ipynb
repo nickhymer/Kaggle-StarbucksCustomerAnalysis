{
 "cells": [
  {
   "cell_type": "code",
   "execution_count": 22,
   "metadata": {},
   "outputs": [],
   "source": [
    "import pandas as pd\n",
    "import numpy as np\n",
    "import seaborn as sns\n",
    "import matplotlib.pyplot as plt\n",
    "import re\n",
    "import json\n",
    "import copy\n",
    "import warnings\n",
    "warnings.filterwarnings('ignore') # allow warning to be seen once (action='once') or set to ('ignore')"
   ]
  },
  {
   "cell_type": "markdown",
   "metadata": {},
   "source": [
    "# Starbucks Customer Analysis"
   ]
  },
  {
   "cell_type": "markdown",
   "metadata": {},
   "source": [
    "## Portfolio Data\n",
    "Information about the promotional offers that are possible to receive, and basic information about each one including the promotional type, duration of the promotion, reward, and how the promotion was distributed to customers."
   ]
  },
  {
   "cell_type": "code",
   "execution_count": 23,
   "metadata": {},
   "outputs": [],
   "source": [
    "portfolio_df = pd.read_csv('archive/portfolio.csv')\n",
    "portfolio_df.drop('Unnamed: 0', inplace = True, axis = 1)"
   ]
  },
  {
   "cell_type": "code",
   "execution_count": 24,
   "metadata": {},
   "outputs": [],
   "source": [
    "portfolio_df['channels_web'] = portfolio_df.channels.str.contains('web')\n",
    "portfolio_df['channels_email'] = portfolio_df.channels.str.contains('email')\n",
    "portfolio_df['channels_mobile'] = portfolio_df.channels.str.contains('mobile')\n",
    "portfolio_df['channels_social'] = portfolio_df.channels.str.contains('social')\n",
    "portfolio_df = portfolio_df[['id','reward', 'difficulty', 'duration', 'offer_type','channels',\n",
    "       'channels_web', 'channels_email', 'channels_mobile', 'channels_social']]\n",
    "portfolio_df.channels = portfolio_df.channels.str.replace(r'[^a-z\\,]','')\n",
    "portfolio_df.channels.replace('web,email,mobile,social','wems', inplace = True)\n",
    "portfolio_df.channels.replace('web,email,mobile','wem', inplace = True)\n",
    "portfolio_df.channels.replace('email,mobile,social','ems', inplace = True)\n",
    "portfolio_df.channels.replace('web,email','we', inplace = True)\n",
    "\n",
    "# simplify the 'id' feature to be promo_chronological number\n",
    "# portfolio_df.id.replace("
   ]
  },
  {
   "cell_type": "code",
   "execution_count": 25,
   "metadata": {},
   "outputs": [
    {
     "data": {
      "text/html": [
       "<div>\n",
       "<style scoped>\n",
       "    .dataframe tbody tr th:only-of-type {\n",
       "        vertical-align: middle;\n",
       "    }\n",
       "\n",
       "    .dataframe tbody tr th {\n",
       "        vertical-align: top;\n",
       "    }\n",
       "\n",
       "    .dataframe thead th {\n",
       "        text-align: right;\n",
       "    }\n",
       "</style>\n",
       "<table border=\"1\" class=\"dataframe\">\n",
       "  <thead>\n",
       "    <tr style=\"text-align: right;\">\n",
       "      <th></th>\n",
       "      <th>id</th>\n",
       "      <th>reward</th>\n",
       "      <th>difficulty</th>\n",
       "      <th>duration</th>\n",
       "      <th>offer_type</th>\n",
       "      <th>channels</th>\n",
       "      <th>channels_web</th>\n",
       "      <th>channels_email</th>\n",
       "      <th>channels_mobile</th>\n",
       "      <th>channels_social</th>\n",
       "    </tr>\n",
       "  </thead>\n",
       "  <tbody>\n",
       "    <tr>\n",
       "      <th>0</th>\n",
       "      <td>ae264e3637204a6fb9bb56bc8210ddfd</td>\n",
       "      <td>10</td>\n",
       "      <td>10</td>\n",
       "      <td>7</td>\n",
       "      <td>bogo</td>\n",
       "      <td>ems</td>\n",
       "      <td>False</td>\n",
       "      <td>True</td>\n",
       "      <td>True</td>\n",
       "      <td>True</td>\n",
       "    </tr>\n",
       "    <tr>\n",
       "      <th>1</th>\n",
       "      <td>4d5c57ea9a6940dd891ad53e9dbe8da0</td>\n",
       "      <td>10</td>\n",
       "      <td>10</td>\n",
       "      <td>5</td>\n",
       "      <td>bogo</td>\n",
       "      <td>wems</td>\n",
       "      <td>True</td>\n",
       "      <td>True</td>\n",
       "      <td>True</td>\n",
       "      <td>True</td>\n",
       "    </tr>\n",
       "    <tr>\n",
       "      <th>2</th>\n",
       "      <td>3f207df678b143eea3cee63160fa8bed</td>\n",
       "      <td>0</td>\n",
       "      <td>0</td>\n",
       "      <td>4</td>\n",
       "      <td>informational</td>\n",
       "      <td>wem</td>\n",
       "      <td>True</td>\n",
       "      <td>True</td>\n",
       "      <td>True</td>\n",
       "      <td>False</td>\n",
       "    </tr>\n",
       "    <tr>\n",
       "      <th>3</th>\n",
       "      <td>9b98b8c7a33c4b65b9aebfe6a799e6d9</td>\n",
       "      <td>5</td>\n",
       "      <td>5</td>\n",
       "      <td>7</td>\n",
       "      <td>bogo</td>\n",
       "      <td>wem</td>\n",
       "      <td>True</td>\n",
       "      <td>True</td>\n",
       "      <td>True</td>\n",
       "      <td>False</td>\n",
       "    </tr>\n",
       "    <tr>\n",
       "      <th>4</th>\n",
       "      <td>0b1e1539f2cc45b7b9fa7c272da2e1d7</td>\n",
       "      <td>5</td>\n",
       "      <td>20</td>\n",
       "      <td>10</td>\n",
       "      <td>discount</td>\n",
       "      <td>we</td>\n",
       "      <td>True</td>\n",
       "      <td>True</td>\n",
       "      <td>False</td>\n",
       "      <td>False</td>\n",
       "    </tr>\n",
       "    <tr>\n",
       "      <th>5</th>\n",
       "      <td>2298d6c36e964ae4a3e7e9706d1fb8c2</td>\n",
       "      <td>3</td>\n",
       "      <td>7</td>\n",
       "      <td>7</td>\n",
       "      <td>discount</td>\n",
       "      <td>wems</td>\n",
       "      <td>True</td>\n",
       "      <td>True</td>\n",
       "      <td>True</td>\n",
       "      <td>True</td>\n",
       "    </tr>\n",
       "    <tr>\n",
       "      <th>6</th>\n",
       "      <td>fafdcd668e3743c1bb461111dcafc2a4</td>\n",
       "      <td>2</td>\n",
       "      <td>10</td>\n",
       "      <td>10</td>\n",
       "      <td>discount</td>\n",
       "      <td>wems</td>\n",
       "      <td>True</td>\n",
       "      <td>True</td>\n",
       "      <td>True</td>\n",
       "      <td>True</td>\n",
       "    </tr>\n",
       "    <tr>\n",
       "      <th>7</th>\n",
       "      <td>5a8bc65990b245e5a138643cd4eb9837</td>\n",
       "      <td>0</td>\n",
       "      <td>0</td>\n",
       "      <td>3</td>\n",
       "      <td>informational</td>\n",
       "      <td>ems</td>\n",
       "      <td>False</td>\n",
       "      <td>True</td>\n",
       "      <td>True</td>\n",
       "      <td>True</td>\n",
       "    </tr>\n",
       "    <tr>\n",
       "      <th>8</th>\n",
       "      <td>f19421c1d4aa40978ebb69ca19b0e20d</td>\n",
       "      <td>5</td>\n",
       "      <td>5</td>\n",
       "      <td>5</td>\n",
       "      <td>bogo</td>\n",
       "      <td>wems</td>\n",
       "      <td>True</td>\n",
       "      <td>True</td>\n",
       "      <td>True</td>\n",
       "      <td>True</td>\n",
       "    </tr>\n",
       "    <tr>\n",
       "      <th>9</th>\n",
       "      <td>2906b810c7d4411798c6938adc9daaa5</td>\n",
       "      <td>2</td>\n",
       "      <td>10</td>\n",
       "      <td>7</td>\n",
       "      <td>discount</td>\n",
       "      <td>wem</td>\n",
       "      <td>True</td>\n",
       "      <td>True</td>\n",
       "      <td>True</td>\n",
       "      <td>False</td>\n",
       "    </tr>\n",
       "  </tbody>\n",
       "</table>\n",
       "</div>"
      ],
      "text/plain": [
       "                                 id  reward  difficulty  duration  \\\n",
       "0  ae264e3637204a6fb9bb56bc8210ddfd      10          10         7   \n",
       "1  4d5c57ea9a6940dd891ad53e9dbe8da0      10          10         5   \n",
       "2  3f207df678b143eea3cee63160fa8bed       0           0         4   \n",
       "3  9b98b8c7a33c4b65b9aebfe6a799e6d9       5           5         7   \n",
       "4  0b1e1539f2cc45b7b9fa7c272da2e1d7       5          20        10   \n",
       "5  2298d6c36e964ae4a3e7e9706d1fb8c2       3           7         7   \n",
       "6  fafdcd668e3743c1bb461111dcafc2a4       2          10        10   \n",
       "7  5a8bc65990b245e5a138643cd4eb9837       0           0         3   \n",
       "8  f19421c1d4aa40978ebb69ca19b0e20d       5           5         5   \n",
       "9  2906b810c7d4411798c6938adc9daaa5       2          10         7   \n",
       "\n",
       "      offer_type channels  channels_web  channels_email  channels_mobile  \\\n",
       "0           bogo      ems         False            True             True   \n",
       "1           bogo     wems          True            True             True   \n",
       "2  informational      wem          True            True             True   \n",
       "3           bogo      wem          True            True             True   \n",
       "4       discount       we          True            True            False   \n",
       "5       discount     wems          True            True             True   \n",
       "6       discount     wems          True            True             True   \n",
       "7  informational      ems         False            True             True   \n",
       "8           bogo     wems          True            True             True   \n",
       "9       discount      wem          True            True             True   \n",
       "\n",
       "   channels_social  \n",
       "0             True  \n",
       "1             True  \n",
       "2            False  \n",
       "3            False  \n",
       "4            False  \n",
       "5             True  \n",
       "6             True  \n",
       "7             True  \n",
       "8             True  \n",
       "9            False  "
      ]
     },
     "execution_count": 25,
     "metadata": {},
     "output_type": "execute_result"
    }
   ],
   "source": [
    "portfolio_df.head(10)"
   ]
  },
  {
   "cell_type": "code",
   "execution_count": 26,
   "metadata": {},
   "outputs": [],
   "source": [
    "# Thinking a bayesian model would work well for this data"
   ]
  },
  {
   "cell_type": "markdown",
   "metadata": {},
   "source": [
    "## Profile Data\n",
    "\n",
    "Dimensional data about each person, including their age, salary, and gender. There is one unique customer for each record. <br> \n",
    "**(17000 records)** "
   ]
  },
  {
   "cell_type": "code",
   "execution_count": 27,
   "metadata": {},
   "outputs": [
    {
     "data": {
      "text/html": [
       "<div>\n",
       "<style scoped>\n",
       "    .dataframe tbody tr th:only-of-type {\n",
       "        vertical-align: middle;\n",
       "    }\n",
       "\n",
       "    .dataframe tbody tr th {\n",
       "        vertical-align: top;\n",
       "    }\n",
       "\n",
       "    .dataframe thead th {\n",
       "        text-align: right;\n",
       "    }\n",
       "</style>\n",
       "<table border=\"1\" class=\"dataframe\">\n",
       "  <thead>\n",
       "    <tr style=\"text-align: right;\">\n",
       "      <th></th>\n",
       "      <th>id</th>\n",
       "      <th>member_date</th>\n",
       "      <th>member_year</th>\n",
       "      <th>member_month</th>\n",
       "      <th>gender</th>\n",
       "      <th>age</th>\n",
       "      <th>income</th>\n",
       "      <th>known_prof</th>\n",
       "    </tr>\n",
       "  </thead>\n",
       "  <tbody>\n",
       "    <tr>\n",
       "      <th>0</th>\n",
       "      <td>68be06ca386d4c31939f3a4f0e3dd783</td>\n",
       "      <td>2017-02-12</td>\n",
       "      <td>2017</td>\n",
       "      <td>2</td>\n",
       "      <td>NaN</td>\n",
       "      <td>118</td>\n",
       "      <td>NaN</td>\n",
       "      <td>False</td>\n",
       "    </tr>\n",
       "    <tr>\n",
       "      <th>1</th>\n",
       "      <td>0610b486422d4921ae7d2bf64640c50b</td>\n",
       "      <td>2017-07-15</td>\n",
       "      <td>2017</td>\n",
       "      <td>7</td>\n",
       "      <td>F</td>\n",
       "      <td>55</td>\n",
       "      <td>112000.0</td>\n",
       "      <td>True</td>\n",
       "    </tr>\n",
       "  </tbody>\n",
       "</table>\n",
       "</div>"
      ],
      "text/plain": [
       "                                 id member_date  member_year  member_month  \\\n",
       "0  68be06ca386d4c31939f3a4f0e3dd783  2017-02-12         2017             2   \n",
       "1  0610b486422d4921ae7d2bf64640c50b  2017-07-15         2017             7   \n",
       "\n",
       "  gender  age    income  known_prof  \n",
       "0    NaN  118       NaN       False  \n",
       "1      F   55  112000.0        True  "
      ]
     },
     "execution_count": 27,
     "metadata": {},
     "output_type": "execute_result"
    },
    {
     "data": {
      "image/png": "[encoded data removed]",
      "text/plain": [
       "<Figure size 720x360 with 2 Axes>"
      ]
     },
     "metadata": {
      "needs_background": "light"
     },
     "output_type": "display_data"
    }
   ],
   "source": [
    "profile_df = pd.read_csv('archive/profile.csv')\n",
    "profile_df.drop('Unnamed: 0', inplace = True, axis = 1)\n",
    "profile_df.rename(columns = {'became_member_on': 'member_date'}, inplace = True)\n",
    "profile_df['member_date'] = pd.to_datetime(profile_df['member_date'], format = '%Y%m%d')\n",
    "profile_df['member_year'] = pd.DatetimeIndex(profile_df['member_date']).year\n",
    "profile_df['member_month'] = pd.DatetimeIndex(profile_df['member_date']).month\n",
    "profile_df = profile_df[['id','member_date','member_year','member_month','gender','age','income']]\n",
    "# Seperate known_df and unknown_df\n",
    "unknowns_df = profile_df[profile_df['gender'].isna()]\n",
    "knowns_df = profile_df[profile_df['gender'].notna()]\n",
    "# Create boolean for known and unknown customer profiles\n",
    "profile_df['known_prof'] = profile_df['gender'].notna()\n",
    "# plot\n",
    "sns.catplot(data = profile_df\n",
    "            , x = 'member_date'\n",
    "            , col = 'known_prof'\n",
    "            )\n",
    "profile_df.head(2)"
   ]
  },
  {
   "cell_type": "markdown",
   "metadata": {},
   "source": [
    "- There are 2175 unknown profiles that have \n",
    "    - an age of 118 years old \n",
    "    - no gender\n",
    "    - no income value \n",
    "- We will seperate the records into knowns and unknown profiles. <br> \n",
    "- Idea here is that we will go from: <br>\n",
    "1) known profiles<br>\n",
    "2) to order transaction history<br>\n",
    "3) group those with unsupervised model <br>\n",
    "4) then see if we can use the model to fill in the unknown data<br>"
   ]
  },
  {
   "cell_type": "code",
   "execution_count": 28,
   "metadata": {},
   "outputs": [
    {
     "data": {
      "text/plain": [
       "<seaborn.axisgrid.PairGrid at 0x7fee100e5890>"
      ]
     },
     "execution_count": 28,
     "metadata": {},
     "output_type": "execute_result"
    },
    {
     "data": {
      "image/png": "[encoded data removed]",
      "text/plain": [
       "<Figure size 720x720 with 20 Axes>"
      ]
     },
     "metadata": {
      "needs_background": "light"
     },
     "output_type": "display_data"
    }
   ],
   "source": [
    "sns.pairplot(data = knowns_df)"
   ]
  },
  {
   "cell_type": "markdown",
   "metadata": {},
   "source": [
    "Next three cells look into the earliest member in the data"
   ]
  },
  {
   "cell_type": "code",
   "execution_count": 29,
   "metadata": {},
   "outputs": [
    {
     "name": "stdout",
     "output_type": "stream",
     "text": [
      "Earliest Member Date: 2013-07-29 00:00:00\n"
     ]
    },
    {
     "data": {
      "text/html": [
       "<div>\n",
       "<style scoped>\n",
       "    .dataframe tbody tr th:only-of-type {\n",
       "        vertical-align: middle;\n",
       "    }\n",
       "\n",
       "    .dataframe tbody tr th {\n",
       "        vertical-align: top;\n",
       "    }\n",
       "\n",
       "    .dataframe thead th {\n",
       "        text-align: right;\n",
       "    }\n",
       "</style>\n",
       "<table border=\"1\" class=\"dataframe\">\n",
       "  <thead>\n",
       "    <tr style=\"text-align: right;\">\n",
       "      <th></th>\n",
       "      <th>id</th>\n",
       "      <th>member_date</th>\n",
       "      <th>member_year</th>\n",
       "      <th>member_month</th>\n",
       "      <th>gender</th>\n",
       "      <th>age</th>\n",
       "      <th>income</th>\n",
       "      <th>known_prof</th>\n",
       "    </tr>\n",
       "  </thead>\n",
       "  <tbody>\n",
       "    <tr>\n",
       "      <th>569</th>\n",
       "      <td>dbb4766b7dd94ca2b83a855312a3ebe9</td>\n",
       "      <td>2013-07-30</td>\n",
       "      <td>2013</td>\n",
       "      <td>7</td>\n",
       "      <td>M</td>\n",
       "      <td>36</td>\n",
       "      <td>74000.0</td>\n",
       "      <td>True</td>\n",
       "    </tr>\n",
       "    <tr>\n",
       "      <th>1200</th>\n",
       "      <td>5ffdab087e674149a89324a732b4f993</td>\n",
       "      <td>2013-07-30</td>\n",
       "      <td>2013</td>\n",
       "      <td>7</td>\n",
       "      <td>M</td>\n",
       "      <td>52</td>\n",
       "      <td>65000.0</td>\n",
       "      <td>True</td>\n",
       "    </tr>\n",
       "    <tr>\n",
       "      <th>7796</th>\n",
       "      <td>d25f38519a89455499c9e49e67ae1511</td>\n",
       "      <td>2013-07-30</td>\n",
       "      <td>2013</td>\n",
       "      <td>7</td>\n",
       "      <td>F</td>\n",
       "      <td>58</td>\n",
       "      <td>55000.0</td>\n",
       "      <td>True</td>\n",
       "    </tr>\n",
       "    <tr>\n",
       "      <th>8948</th>\n",
       "      <td>77388a70eaf14433b4efc5d01fa947bf</td>\n",
       "      <td>2013-07-29</td>\n",
       "      <td>2013</td>\n",
       "      <td>7</td>\n",
       "      <td>M</td>\n",
       "      <td>64</td>\n",
       "      <td>69000.0</td>\n",
       "      <td>True</td>\n",
       "    </tr>\n",
       "    <tr>\n",
       "      <th>10933</th>\n",
       "      <td>7b42b5bbe237406aaf2748a09050f745</td>\n",
       "      <td>2013-07-31</td>\n",
       "      <td>2013</td>\n",
       "      <td>7</td>\n",
       "      <td>F</td>\n",
       "      <td>67</td>\n",
       "      <td>58000.0</td>\n",
       "      <td>True</td>\n",
       "    </tr>\n",
       "  </tbody>\n",
       "</table>\n",
       "</div>"
      ],
      "text/plain": [
       "                                     id member_date  member_year  \\\n",
       "569    dbb4766b7dd94ca2b83a855312a3ebe9  2013-07-30         2013   \n",
       "1200   5ffdab087e674149a89324a732b4f993  2013-07-30         2013   \n",
       "7796   d25f38519a89455499c9e49e67ae1511  2013-07-30         2013   \n",
       "8948   77388a70eaf14433b4efc5d01fa947bf  2013-07-29         2013   \n",
       "10933  7b42b5bbe237406aaf2748a09050f745  2013-07-31         2013   \n",
       "\n",
       "       member_month gender  age   income  known_prof  \n",
       "569               7      M   36  74000.0        True  \n",
       "1200              7      M   52  65000.0        True  \n",
       "7796              7      F   58  55000.0        True  \n",
       "8948              7      M   64  69000.0        True  \n",
       "10933             7      F   67  58000.0        True  "
      ]
     },
     "execution_count": 29,
     "metadata": {},
     "output_type": "execute_result"
    }
   ],
   "source": [
    "print('Earliest Member Date:',profile_df.member_date.min())\n",
    "profile_df[(profile_df.member_year == 2013)&(profile_df.member_month == 7)]"
   ]
  },
  {
   "cell_type": "code",
   "execution_count": 30,
   "metadata": {},
   "outputs": [
    {
     "name": "stdout",
     "output_type": "stream",
     "text": [
      "Looking at the member date of a transaction with a max time value (714)\n"
     ]
    },
    {
     "data": {
      "text/html": [
       "<div>\n",
       "<style scoped>\n",
       "    .dataframe tbody tr th:only-of-type {\n",
       "        vertical-align: middle;\n",
       "    }\n",
       "\n",
       "    .dataframe tbody tr th {\n",
       "        vertical-align: top;\n",
       "    }\n",
       "\n",
       "    .dataframe thead th {\n",
       "        text-align: right;\n",
       "    }\n",
       "</style>\n",
       "<table border=\"1\" class=\"dataframe\">\n",
       "  <thead>\n",
       "    <tr style=\"text-align: right;\">\n",
       "      <th></th>\n",
       "      <th>id</th>\n",
       "      <th>member_date</th>\n",
       "      <th>member_year</th>\n",
       "      <th>member_month</th>\n",
       "      <th>gender</th>\n",
       "      <th>age</th>\n",
       "      <th>income</th>\n",
       "      <th>known_prof</th>\n",
       "    </tr>\n",
       "  </thead>\n",
       "  <tbody>\n",
       "    <tr>\n",
       "      <th>16994</th>\n",
       "      <td>c02b10e8752c4d8e9b73f918558531f7</td>\n",
       "      <td>2015-12-11</td>\n",
       "      <td>2015</td>\n",
       "      <td>12</td>\n",
       "      <td>NaN</td>\n",
       "      <td>118</td>\n",
       "      <td>NaN</td>\n",
       "      <td>False</td>\n",
       "    </tr>\n",
       "  </tbody>\n",
       "</table>\n",
       "</div>"
      ],
      "text/plain": [
       "                                     id member_date  member_year  \\\n",
       "16994  c02b10e8752c4d8e9b73f918558531f7  2015-12-11         2015   \n",
       "\n",
       "       member_month gender  age  income  known_prof  \n",
       "16994            12    NaN  118     NaN       False  "
      ]
     },
     "execution_count": 30,
     "metadata": {},
     "output_type": "execute_result"
    }
   ],
   "source": [
    "print('Looking at the member date of a transaction with a max time value (714)')\n",
    "profile_df[profile_df.id == 'c02b10e8752c4d8e9b73f918558531f7']"
   ]
  },
  {
   "cell_type": "markdown",
   "metadata": {},
   "source": [
    "## Transcript Data\n",
    "Records show the different steps of promotional offers that a customer received. The different values of receiving a promotion are receiving, viewing, and completing. You also see the different transactions that a person made in the time since they became a customer. With all records, you see the time that they interacted with Starbucks and the amount that it is worth. <br> \n",
    "**(306534 records)**"
   ]
  },
  {
   "cell_type": "code",
   "execution_count": 31,
   "metadata": {},
   "outputs": [
    {
     "name": "stdout",
     "output_type": "stream",
     "text": [
      "Records in transcript_df: 306534\n"
     ]
    }
   ],
   "source": [
    "transcript_df = pd.read_csv('archive/transcript.csv')\n",
    "transcript_df.drop('Unnamed: 0', inplace = True, axis = 1)\n",
    "transcript_df['value'] = transcript_df['value'].apply(eval) # use eval for str to dict\n",
    "value_split_df = transcript_df['value'].apply(pd.Series)    # split dict into seperate cols\n",
    "transcript_df = transcript_df.join(value_split_df, how = 'left') # join into main transcript_df\n",
    "transcript_df['offer_id'] = transcript_df['offer_id'].fillna(transcript_df['offer id']) # create 1 offer_id col\n",
    "transcript_df.drop(['offer id','value'], inplace = True, axis = 1) # drop cols that are dups\n",
    "col_order = ['person','offer_id','event','amount','reward','time'] # set col order\n",
    "transcript_df = transcript_df[col_order] # reorder cols\n",
    "transcript_df.rename(columns = {'reward':'reward_rcvd'}, inplace = True)\n",
    "transcript_df.head(1).append(transcript_df.tail(1))\n",
    "print('Records in transcript_df:',len(transcript_df))"
   ]
  },
  {
   "cell_type": "markdown",
   "metadata": {},
   "source": [
    "**Note:** What I am doing is looking to see if the member_date can be linked to the time zero of the customer in the transaction data. I first assumed that each customer would have have began with an 'offer received', which seems to be the majority of the starting scenarios for customers, but that is not necesarily the case for everyone. <br>\n",
    "**Distribution of starting scenario (@time=0)**\n",
    " - offer received - (12650) <br>\n",
    " - offer viewed - (0)<br>\n",
    " - transaction - (111) <br>\n",
    " - offer completed - (0)<br>\n",
    "This totals up to **12761** customers with a time=0 event out of 17000 customers. <br> \n",
    "This leaves **4239** that don't have an initial event at zero. Basically 25% of customers. Interesting."
   ]
  },
  {
   "cell_type": "code",
   "execution_count": 32,
   "metadata": {},
   "outputs": [
    {
     "name": "stdout",
     "output_type": "stream",
     "text": [
      "Total Unique Customers: 17000\n",
      "Unique Customers with a zero start time and known event: 12761\n",
      "Unique Customers with a non-zero start time: 4239\n",
      "Percentage of customers with a zero start time: 0.75\n",
      "-------------\n",
      "offer received    12650\n",
      "transaction         111\n",
      "Name: event, dtype: int64\n",
      "-------------\n"
     ]
    }
   ],
   "source": [
    "customer_list = transcript_df.person.unique()\n",
    "t0_time = transcript_df[((transcript_df['event'] == 'offer received')|\n",
    "                   (transcript_df['event'] == 'offer viewed')|\n",
    "                   (transcript_df['event'] == 'transaction')|\n",
    "                   (transcript_df['event'] == 'offer completed'))\n",
    "                    &(transcript_df['time'] == 0)].drop_duplicates(subset = ['person'])\n",
    "\n",
    "print('Total Unique Customers:',len(customer_list)) # total unique customers in the transaction data\n",
    "print('Unique Customers with a zero start time and known event:', len(t0_time))\n",
    "print('Unique Customers with a non-zero start time:',len(customer_list)-len(t0_time))\n",
    "print('Percentage of customers with a zero start time:',round(12761/17000,2))\n",
    "print('-------------')\n",
    "print(t0_time.event.value_counts())\n",
    "print('-------------')"
   ]
  },
  {
   "cell_type": "markdown",
   "metadata": {},
   "source": [
    " - **'t'** : is the list of id's with times that are greater than 0\n",
    "     - In the list of times there is a pattern of adding 6 from [6 : 408].\n",
    "     - From 408 it is [24, 12, 42, 12, 60, 12]"
   ]
  },
  {
   "cell_type": "code",
   "execution_count": 33,
   "metadata": {},
   "outputs": [],
   "source": [
    "# For loop to find first recorded non-zero event time of customers in transcript_df\n",
    "t = []\n",
    "for x in transcript_df['person'].unique():\n",
    "    df_1 = transcript_df[transcript_df['person'] == x]\n",
    "    if df_1.time.min()>0:\n",
    "        t.append([x,df_1.time.min()])\n",
    "time_first_df = pd.DataFrame(t, columns = ['person','first_time'])\n",
    "transcript_df = pd.merge(transcript_df,time_first_df, how = 'left', on = 'person').fillna(0)"
   ]
  },
  {
   "cell_type": "code",
   "execution_count": 34,
   "metadata": {},
   "outputs": [
    {
     "name": "stdout",
     "output_type": "stream",
     "text": [
      "['32189735a963491082e35dd4c3221690' '203831402e2b49a8bf1fa35263f17165'\n",
      " '1e90d5a75b1d47e6ac495c37399705da' ... '912b9f623b9e4b4eb99b6dc919f09a93'\n",
      " '3045af4e98794a04a5542d3eac939b1f' 'da7a7c0dcfcb41a8acc7864a53cf60fb']\n"
     ]
    }
   ],
   "source": [
    "print(pd.DataFrame(t)[0].unique())"
   ]
  },
  {
   "cell_type": "code",
   "execution_count": 35,
   "metadata": {},
   "outputs": [
    {
     "name": "stdout",
     "output_type": "stream",
     "text": [
      "-------------\n",
      "min: 0.0\n",
      "max: 582.0\n",
      "-------------\n",
      "Unique times of offers received: [  0 168 336 408 504 576]\n",
      "Notice spike at 168 (2nd offer received): 1537\n",
      "-------------\n"
     ]
    },
    {
     "data": {
      "image/png": "[encoded data removed]",
      "text/plain": [
       "<Figure size 432x288 with 1 Axes>"
      ]
     },
     "metadata": {
      "needs_background": "light"
     },
     "output_type": "display_data"
    }
   ],
   "source": [
    "print('-------------')\n",
    "print('min:',transcript_df.drop_duplicates(subset = ['person']).first_time.min())\n",
    "print('max:',transcript_df.drop_duplicates(subset = ['person']).first_time.max())\n",
    "print('-------------')\n",
    "# take one customer record to see distribution of unique non-zero start times\n",
    "unique_customers_df = transcript_df.drop_duplicates(subset = ['person'])\n",
    "unique_customers_df[unique_customers_df['first_time']>0].first_time.hist(bins = 74)\n",
    "print('Unique times of offers received:',transcript_df[transcript_df['event'] == 'offer received'].time.unique())\n",
    "print('Notice spike at 168 (2nd offer received):',unique_customers_df[unique_customers_df['first_time']==168].first_time.count())\n",
    "print('-------------')"
   ]
  },
  {
   "cell_type": "code",
   "execution_count": 36,
   "metadata": {},
   "outputs": [
    {
     "data": {
      "text/plain": [
       "array([<AxesSubplot:title={'center':'offer completed'}>,\n",
       "       <AxesSubplot:title={'center':'offer received'}>,\n",
       "       <AxesSubplot:title={'center':'offer viewed'}>,\n",
       "       <AxesSubplot:title={'center':'transaction'}>], dtype=object)"
      ]
     },
     "execution_count": 36,
     "metadata": {},
     "output_type": "execute_result"
    },
    {
     "data": {
      "image/png": "[encoded data removed]",
      "text/plain": [
       "<Figure size 864x864 with 4 Axes>"
      ]
     },
     "metadata": {
      "needs_background": "light"
     },
     "output_type": "display_data"
    }
   ],
   "source": [
    "transcript_df[['event','time']].hist(by = 'event', layout = (4,1),bins = 350, figsize = (12,12))"
   ]
  },
  {
   "cell_type": "code",
   "execution_count": 37,
   "metadata": {},
   "outputs": [
    {
     "name": "stdout",
     "output_type": "stream",
     "text": [
      "Total offer_id count: 12650\n",
      "mean: 1265.0\n"
     ]
    },
    {
     "data": {
      "image/png": "[encoded data removed]",
      "text/plain": [
       "<Figure size 432x288 with 1 Axes>"
      ]
     },
     "metadata": {
      "needs_background": "light"
     },
     "output_type": "display_data"
    }
   ],
   "source": [
    "# Look at the distribution of offer_id\n",
    "transcript_df[(transcript_df['time']==0)\n",
    "              &(transcript_df['event']=='offer received')]['offer_id'].value_counts().plot.bar()\n",
    "print('Total offer_id count:',len(transcript_df[(transcript_df['time']==0)\n",
    "                                                &(transcript_df['event']=='offer received')]['offer_id']))\n",
    "print('mean:',transcript_df[(transcript_df['time']==0)\n",
    "              &(transcript_df['event']=='offer received')]['offer_id'].value_counts().mean())\n",
    "# Pretty uniformly distributed initial offer_id at time equals zero across the customers base"
   ]
  },
  {
   "cell_type": "code",
   "execution_count": 38,
   "metadata": {},
   "outputs": [],
   "source": [
    "# Let's split off one of the customer segments where the 0 time is a specific offer\n",
    "offer_selected = '3f207df678b143eea3cee63160fa8bed'\n",
    "offer1_customers = transcript_df[(transcript_df['time']== 0)\n",
    "              &(transcript_df['event']== 'offer received')\n",
    "              &(transcript_df['offer_id']== offer_selected)\n",
    "             ]['person'].unique()\n",
    "offer1_df = transcript_df[transcript_df['person'].isin(offer1_customers)]"
   ]
  },
  {
   "cell_type": "code",
   "execution_count": 39,
   "metadata": {},
   "outputs": [
    {
     "data": {
      "text/html": [
       "<div>\n",
       "<style scoped>\n",
       "    .dataframe tbody tr th:only-of-type {\n",
       "        vertical-align: middle;\n",
       "    }\n",
       "\n",
       "    .dataframe tbody tr th {\n",
       "        vertical-align: top;\n",
       "    }\n",
       "\n",
       "    .dataframe thead th {\n",
       "        text-align: right;\n",
       "    }\n",
       "</style>\n",
       "<table border=\"1\" class=\"dataframe\">\n",
       "  <thead>\n",
       "    <tr style=\"text-align: right;\">\n",
       "      <th></th>\n",
       "      <th>person</th>\n",
       "      <th>offer_id</th>\n",
       "      <th>event</th>\n",
       "      <th>amount</th>\n",
       "      <th>reward_rcvd</th>\n",
       "      <th>time</th>\n",
       "      <th>first_time</th>\n",
       "    </tr>\n",
       "  </thead>\n",
       "  <tbody>\n",
       "    <tr>\n",
       "      <th>7</th>\n",
       "      <td>2eeac8d8feae4a8cad5a6af0499a211d</td>\n",
       "      <td>3f207df678b143eea3cee63160fa8bed</td>\n",
       "      <td>offer received</td>\n",
       "      <td>0.00</td>\n",
       "      <td>0.0</td>\n",
       "      <td>0</td>\n",
       "      <td>0.0</td>\n",
       "    </tr>\n",
       "    <tr>\n",
       "      <th>53182</th>\n",
       "      <td>2eeac8d8feae4a8cad5a6af0499a211d</td>\n",
       "      <td>2298d6c36e964ae4a3e7e9706d1fb8c2</td>\n",
       "      <td>offer received</td>\n",
       "      <td>0.00</td>\n",
       "      <td>0.0</td>\n",
       "      <td>168</td>\n",
       "      <td>0.0</td>\n",
       "    </tr>\n",
       "    <tr>\n",
       "      <th>65844</th>\n",
       "      <td>2eeac8d8feae4a8cad5a6af0499a211d</td>\n",
       "      <td>2298d6c36e964ae4a3e7e9706d1fb8c2</td>\n",
       "      <td>offer viewed</td>\n",
       "      <td>0.00</td>\n",
       "      <td>0.0</td>\n",
       "      <td>168</td>\n",
       "      <td>0.0</td>\n",
       "    </tr>\n",
       "    <tr>\n",
       "      <th>85293</th>\n",
       "      <td>2eeac8d8feae4a8cad5a6af0499a211d</td>\n",
       "      <td>0</td>\n",
       "      <td>transaction</td>\n",
       "      <td>2.32</td>\n",
       "      <td>0.0</td>\n",
       "      <td>216</td>\n",
       "      <td>0.0</td>\n",
       "    </tr>\n",
       "    <tr>\n",
       "      <th>110835</th>\n",
       "      <td>2eeac8d8feae4a8cad5a6af0499a211d</td>\n",
       "      <td>fafdcd668e3743c1bb461111dcafc2a4</td>\n",
       "      <td>offer received</td>\n",
       "      <td>0.00</td>\n",
       "      <td>0.0</td>\n",
       "      <td>336</td>\n",
       "      <td>0.0</td>\n",
       "    </tr>\n",
       "    <tr>\n",
       "      <th>130152</th>\n",
       "      <td>2eeac8d8feae4a8cad5a6af0499a211d</td>\n",
       "      <td>fafdcd668e3743c1bb461111dcafc2a4</td>\n",
       "      <td>offer viewed</td>\n",
       "      <td>0.00</td>\n",
       "      <td>0.0</td>\n",
       "      <td>348</td>\n",
       "      <td>0.0</td>\n",
       "    </tr>\n",
       "    <tr>\n",
       "      <th>141567</th>\n",
       "      <td>2eeac8d8feae4a8cad5a6af0499a211d</td>\n",
       "      <td>0</td>\n",
       "      <td>transaction</td>\n",
       "      <td>5.29</td>\n",
       "      <td>0.0</td>\n",
       "      <td>378</td>\n",
       "      <td>0.0</td>\n",
       "    </tr>\n",
       "    <tr>\n",
       "      <th>187136</th>\n",
       "      <td>2eeac8d8feae4a8cad5a6af0499a211d</td>\n",
       "      <td>0</td>\n",
       "      <td>transaction</td>\n",
       "      <td>7.14</td>\n",
       "      <td>0.0</td>\n",
       "      <td>456</td>\n",
       "      <td>0.0</td>\n",
       "    </tr>\n",
       "    <tr>\n",
       "      <th>187137</th>\n",
       "      <td>2eeac8d8feae4a8cad5a6af0499a211d</td>\n",
       "      <td>fafdcd668e3743c1bb461111dcafc2a4</td>\n",
       "      <td>offer completed</td>\n",
       "      <td>0.00</td>\n",
       "      <td>2.0</td>\n",
       "      <td>456</td>\n",
       "      <td>0.0</td>\n",
       "    </tr>\n",
       "    <tr>\n",
       "      <th>243231</th>\n",
       "      <td>2eeac8d8feae4a8cad5a6af0499a211d</td>\n",
       "      <td>0</td>\n",
       "      <td>transaction</td>\n",
       "      <td>0.87</td>\n",
       "      <td>0.0</td>\n",
       "      <td>570</td>\n",
       "      <td>0.0</td>\n",
       "    </tr>\n",
       "  </tbody>\n",
       "</table>\n",
       "</div>"
      ],
      "text/plain": [
       "                                  person                          offer_id  \\\n",
       "7       2eeac8d8feae4a8cad5a6af0499a211d  3f207df678b143eea3cee63160fa8bed   \n",
       "53182   2eeac8d8feae4a8cad5a6af0499a211d  2298d6c36e964ae4a3e7e9706d1fb8c2   \n",
       "65844   2eeac8d8feae4a8cad5a6af0499a211d  2298d6c36e964ae4a3e7e9706d1fb8c2   \n",
       "85293   2eeac8d8feae4a8cad5a6af0499a211d                                 0   \n",
       "110835  2eeac8d8feae4a8cad5a6af0499a211d  fafdcd668e3743c1bb461111dcafc2a4   \n",
       "130152  2eeac8d8feae4a8cad5a6af0499a211d  fafdcd668e3743c1bb461111dcafc2a4   \n",
       "141567  2eeac8d8feae4a8cad5a6af0499a211d                                 0   \n",
       "187136  2eeac8d8feae4a8cad5a6af0499a211d                                 0   \n",
       "187137  2eeac8d8feae4a8cad5a6af0499a211d  fafdcd668e3743c1bb461111dcafc2a4   \n",
       "243231  2eeac8d8feae4a8cad5a6af0499a211d                                 0   \n",
       "\n",
       "                  event  amount  reward_rcvd  time  first_time  \n",
       "7        offer received    0.00          0.0     0         0.0  \n",
       "53182    offer received    0.00          0.0   168         0.0  \n",
       "65844      offer viewed    0.00          0.0   168         0.0  \n",
       "85293       transaction    2.32          0.0   216         0.0  \n",
       "110835   offer received    0.00          0.0   336         0.0  \n",
       "130152     offer viewed    0.00          0.0   348         0.0  \n",
       "141567      transaction    5.29          0.0   378         0.0  \n",
       "187136      transaction    7.14          0.0   456         0.0  \n",
       "187137  offer completed    0.00          2.0   456         0.0  \n",
       "243231      transaction    0.87          0.0   570         0.0  "
      ]
     },
     "execution_count": 39,
     "metadata": {},
     "output_type": "execute_result"
    }
   ],
   "source": [
    "# Do all of the customers that received this offer as their first offer receive the same subsequent offers?\n",
    "offer1_df[offer1_df['person'] == offer1_customers[0]]"
   ]
  },
  {
   "cell_type": "code",
   "execution_count": 51,
   "metadata": {},
   "outputs": [
    {
     "data": {
      "text/plain": [
       "17000"
      ]
     },
     "execution_count": 51,
     "metadata": {},
     "output_type": "execute_result"
    }
   ],
   "source": [
    "len(transcript_df['person'].unique())"
   ]
  },
  {
   "cell_type": "code",
   "execution_count": 59,
   "metadata": {
    "scrolled": true
   },
   "outputs": [
    {
     "name": "stdout",
     "output_type": "stream",
     "text": [
      "Values of total offers received: [0 1 2 3 4 5 6]\n",
      "Mean value 4.744982104697353\n",
      "Offers received: 76277\n",
      "Unique customers that received offers: 16994\n",
      "Customers that did not receive an offer: \n",
      " ['eb540099db834cf59001f83a4561aef3' '12ede229379747bd8d74ccdc20097ca3'\n",
      " 'c6e579c6821c41d1a7a6a9cf936e91bb' 'ae8111e7e8cd4b60a8d35c42c1110555'\n",
      " '3a4874d8f0ef42b9a1b72294902afea9' 'da7a7c0dcfcb41a8acc7864a53cf60fb']\n"
     ]
    },
    {
     "data": {
      "text/plain": [
       "<AxesSubplot:>"
      ]
     },
     "execution_count": 59,
     "metadata": {},
     "output_type": "execute_result"
    },
    {
     "data": {
      "image/png": "[encoded data removed]",
      "text/plain": [
       "<Figure size 432x288 with 1 Axes>"
      ]
     },
     "metadata": {
      "needs_background": "light"
     },
     "output_type": "display_data"
    }
   ],
   "source": [
    "# Are the amounts of offers the same across all customers?\n",
    "transcript_df['offer_rcvd_count'] = 0\n",
    "transcript_df['offer_rcvd_count'].loc[(transcript_df['event']=='offer received')] = transcript_df[(transcript_df['event']=='offer received')].groupby('person')['person'].transform('count')\n",
    "print('Values of total offers received:',np.sort(transcript_df['offer_rcvd_count'].unique()))\n",
    "print('Mean value', transcript_df[transcript_df['offer_rcvd_count']>0]['offer_rcvd_count'].mean())\n",
    "print('Offers received:',len(transcript_df[transcript_df['offer_rcvd_count']>0]['offer_rcvd_count']))\n",
    "print('Unique customers that received offers:',len(transcript_df[transcript_df['offer_rcvd_count']>0]['person'].unique()))\n",
    "no_offers_list = transcript_df[~transcript_df['person'].isin(transcript_df[transcript_df['offer_rcvd_count']>0]['person'].unique())]['person'].unique()\n",
    "print('Customers that did not receive an offer: \\n',no_offers_list)\n",
    "transcript_df[transcript_df['offer_rcvd_count']>0]['offer_rcvd_count'].hist()"
   ]
  },
  {
   "cell_type": "markdown",
   "metadata": {},
   "source": [
    "## Customers with no offers received"
   ]
  },
  {
   "cell_type": "code",
   "execution_count": 66,
   "metadata": {},
   "outputs": [
    {
     "data": {
      "text/html": [
       "<div>\n",
       "<style scoped>\n",
       "    .dataframe tbody tr th:only-of-type {\n",
       "        vertical-align: middle;\n",
       "    }\n",
       "\n",
       "    .dataframe tbody tr th {\n",
       "        vertical-align: top;\n",
       "    }\n",
       "\n",
       "    .dataframe thead th {\n",
       "        text-align: right;\n",
       "    }\n",
       "</style>\n",
       "<table border=\"1\" class=\"dataframe\">\n",
       "  <thead>\n",
       "    <tr style=\"text-align: right;\">\n",
       "      <th></th>\n",
       "      <th>person</th>\n",
       "      <th>offer_id</th>\n",
       "      <th>event</th>\n",
       "      <th>amount</th>\n",
       "      <th>reward_rcvd</th>\n",
       "      <th>time</th>\n",
       "      <th>first_time</th>\n",
       "      <th>offer_rcvd_count</th>\n",
       "    </tr>\n",
       "  </thead>\n",
       "  <tbody>\n",
       "    <tr>\n",
       "      <th>22092</th>\n",
       "      <td>12ede229379747bd8d74ccdc20097ca3</td>\n",
       "      <td>0</td>\n",
       "      <td>transaction</td>\n",
       "      <td>16.62</td>\n",
       "      <td>0.0</td>\n",
       "      <td>18</td>\n",
       "      <td>18.0</td>\n",
       "      <td>0</td>\n",
       "    </tr>\n",
       "    <tr>\n",
       "      <th>109815</th>\n",
       "      <td>12ede229379747bd8d74ccdc20097ca3</td>\n",
       "      <td>0</td>\n",
       "      <td>transaction</td>\n",
       "      <td>27.60</td>\n",
       "      <td>0.0</td>\n",
       "      <td>324</td>\n",
       "      <td>18.0</td>\n",
       "      <td>0</td>\n",
       "    </tr>\n",
       "    <tr>\n",
       "      <th>292962</th>\n",
       "      <td>12ede229379747bd8d74ccdc20097ca3</td>\n",
       "      <td>0</td>\n",
       "      <td>transaction</td>\n",
       "      <td>19.03</td>\n",
       "      <td>0.0</td>\n",
       "      <td>654</td>\n",
       "      <td>18.0</td>\n",
       "      <td>0</td>\n",
       "    </tr>\n",
       "    <tr>\n",
       "      <th>109340</th>\n",
       "      <td>3a4874d8f0ef42b9a1b72294902afea9</td>\n",
       "      <td>0</td>\n",
       "      <td>transaction</td>\n",
       "      <td>22.75</td>\n",
       "      <td>0.0</td>\n",
       "      <td>324</td>\n",
       "      <td>324.0</td>\n",
       "      <td>0</td>\n",
       "    </tr>\n",
       "    <tr>\n",
       "      <th>142347</th>\n",
       "      <td>3a4874d8f0ef42b9a1b72294902afea9</td>\n",
       "      <td>0</td>\n",
       "      <td>transaction</td>\n",
       "      <td>27.20</td>\n",
       "      <td>0.0</td>\n",
       "      <td>378</td>\n",
       "      <td>324.0</td>\n",
       "      <td>0</td>\n",
       "    </tr>\n",
       "    <tr>\n",
       "      <th>259644</th>\n",
       "      <td>3a4874d8f0ef42b9a1b72294902afea9</td>\n",
       "      <td>0</td>\n",
       "      <td>transaction</td>\n",
       "      <td>17.67</td>\n",
       "      <td>0.0</td>\n",
       "      <td>576</td>\n",
       "      <td>324.0</td>\n",
       "      <td>0</td>\n",
       "    </tr>\n",
       "    <tr>\n",
       "      <th>106812</th>\n",
       "      <td>ae8111e7e8cd4b60a8d35c42c1110555</td>\n",
       "      <td>0</td>\n",
       "      <td>transaction</td>\n",
       "      <td>17.51</td>\n",
       "      <td>0.0</td>\n",
       "      <td>306</td>\n",
       "      <td>306.0</td>\n",
       "      <td>0</td>\n",
       "    </tr>\n",
       "    <tr>\n",
       "      <th>110707</th>\n",
       "      <td>ae8111e7e8cd4b60a8d35c42c1110555</td>\n",
       "      <td>0</td>\n",
       "      <td>transaction</td>\n",
       "      <td>28.70</td>\n",
       "      <td>0.0</td>\n",
       "      <td>330</td>\n",
       "      <td>306.0</td>\n",
       "      <td>0</td>\n",
       "    </tr>\n",
       "    <tr>\n",
       "      <th>184609</th>\n",
       "      <td>ae8111e7e8cd4b60a8d35c42c1110555</td>\n",
       "      <td>0</td>\n",
       "      <td>transaction</td>\n",
       "      <td>11.53</td>\n",
       "      <td>0.0</td>\n",
       "      <td>444</td>\n",
       "      <td>306.0</td>\n",
       "      <td>0</td>\n",
       "    </tr>\n",
       "    <tr>\n",
       "      <th>287598</th>\n",
       "      <td>ae8111e7e8cd4b60a8d35c42c1110555</td>\n",
       "      <td>0</td>\n",
       "      <td>transaction</td>\n",
       "      <td>9.72</td>\n",
       "      <td>0.0</td>\n",
       "      <td>636</td>\n",
       "      <td>306.0</td>\n",
       "      <td>0</td>\n",
       "    </tr>\n",
       "    <tr>\n",
       "      <th>292894</th>\n",
       "      <td>ae8111e7e8cd4b60a8d35c42c1110555</td>\n",
       "      <td>0</td>\n",
       "      <td>transaction</td>\n",
       "      <td>18.97</td>\n",
       "      <td>0.0</td>\n",
       "      <td>654</td>\n",
       "      <td>306.0</td>\n",
       "      <td>0</td>\n",
       "    </tr>\n",
       "    <tr>\n",
       "      <th>69477</th>\n",
       "      <td>c6e579c6821c41d1a7a6a9cf936e91bb</td>\n",
       "      <td>0</td>\n",
       "      <td>transaction</td>\n",
       "      <td>0.65</td>\n",
       "      <td>0.0</td>\n",
       "      <td>174</td>\n",
       "      <td>174.0</td>\n",
       "      <td>0</td>\n",
       "    </tr>\n",
       "    <tr>\n",
       "      <th>87239</th>\n",
       "      <td>c6e579c6821c41d1a7a6a9cf936e91bb</td>\n",
       "      <td>0</td>\n",
       "      <td>transaction</td>\n",
       "      <td>1.91</td>\n",
       "      <td>0.0</td>\n",
       "      <td>222</td>\n",
       "      <td>174.0</td>\n",
       "      <td>0</td>\n",
       "    </tr>\n",
       "    <tr>\n",
       "      <th>163610</th>\n",
       "      <td>c6e579c6821c41d1a7a6a9cf936e91bb</td>\n",
       "      <td>0</td>\n",
       "      <td>transaction</td>\n",
       "      <td>1.25</td>\n",
       "      <td>0.0</td>\n",
       "      <td>408</td>\n",
       "      <td>174.0</td>\n",
       "      <td>0</td>\n",
       "    </tr>\n",
       "    <tr>\n",
       "      <th>243317</th>\n",
       "      <td>c6e579c6821c41d1a7a6a9cf936e91bb</td>\n",
       "      <td>0</td>\n",
       "      <td>transaction</td>\n",
       "      <td>3.14</td>\n",
       "      <td>0.0</td>\n",
       "      <td>570</td>\n",
       "      <td>174.0</td>\n",
       "      <td>0</td>\n",
       "    </tr>\n",
       "    <tr>\n",
       "      <th>263150</th>\n",
       "      <td>da7a7c0dcfcb41a8acc7864a53cf60fb</td>\n",
       "      <td>0</td>\n",
       "      <td>transaction</td>\n",
       "      <td>0.35</td>\n",
       "      <td>0.0</td>\n",
       "      <td>582</td>\n",
       "      <td>582.0</td>\n",
       "      <td>0</td>\n",
       "    </tr>\n",
       "    <tr>\n",
       "      <th>16379</th>\n",
       "      <td>eb540099db834cf59001f83a4561aef3</td>\n",
       "      <td>0</td>\n",
       "      <td>transaction</td>\n",
       "      <td>4.74</td>\n",
       "      <td>0.0</td>\n",
       "      <td>6</td>\n",
       "      <td>6.0</td>\n",
       "      <td>0</td>\n",
       "    </tr>\n",
       "    <tr>\n",
       "      <th>108268</th>\n",
       "      <td>eb540099db834cf59001f83a4561aef3</td>\n",
       "      <td>0</td>\n",
       "      <td>transaction</td>\n",
       "      <td>5.09</td>\n",
       "      <td>0.0</td>\n",
       "      <td>318</td>\n",
       "      <td>6.0</td>\n",
       "      <td>0</td>\n",
       "    </tr>\n",
       "    <tr>\n",
       "      <th>228700</th>\n",
       "      <td>eb540099db834cf59001f83a4561aef3</td>\n",
       "      <td>0</td>\n",
       "      <td>transaction</td>\n",
       "      <td>7.40</td>\n",
       "      <td>0.0</td>\n",
       "      <td>528</td>\n",
       "      <td>6.0</td>\n",
       "      <td>0</td>\n",
       "    </tr>\n",
       "    <tr>\n",
       "      <th>269818</th>\n",
       "      <td>eb540099db834cf59001f83a4561aef3</td>\n",
       "      <td>0</td>\n",
       "      <td>transaction</td>\n",
       "      <td>8.78</td>\n",
       "      <td>0.0</td>\n",
       "      <td>594</td>\n",
       "      <td>6.0</td>\n",
       "      <td>0</td>\n",
       "    </tr>\n",
       "  </tbody>\n",
       "</table>\n",
       "</div>"
      ],
      "text/plain": [
       "                                  person offer_id        event  amount  \\\n",
       "22092   12ede229379747bd8d74ccdc20097ca3        0  transaction   16.62   \n",
       "109815  12ede229379747bd8d74ccdc20097ca3        0  transaction   27.60   \n",
       "292962  12ede229379747bd8d74ccdc20097ca3        0  transaction   19.03   \n",
       "109340  3a4874d8f0ef42b9a1b72294902afea9        0  transaction   22.75   \n",
       "142347  3a4874d8f0ef42b9a1b72294902afea9        0  transaction   27.20   \n",
       "259644  3a4874d8f0ef42b9a1b72294902afea9        0  transaction   17.67   \n",
       "106812  ae8111e7e8cd4b60a8d35c42c1110555        0  transaction   17.51   \n",
       "110707  ae8111e7e8cd4b60a8d35c42c1110555        0  transaction   28.70   \n",
       "184609  ae8111e7e8cd4b60a8d35c42c1110555        0  transaction   11.53   \n",
       "287598  ae8111e7e8cd4b60a8d35c42c1110555        0  transaction    9.72   \n",
       "292894  ae8111e7e8cd4b60a8d35c42c1110555        0  transaction   18.97   \n",
       "69477   c6e579c6821c41d1a7a6a9cf936e91bb        0  transaction    0.65   \n",
       "87239   c6e579c6821c41d1a7a6a9cf936e91bb        0  transaction    1.91   \n",
       "163610  c6e579c6821c41d1a7a6a9cf936e91bb        0  transaction    1.25   \n",
       "243317  c6e579c6821c41d1a7a6a9cf936e91bb        0  transaction    3.14   \n",
       "263150  da7a7c0dcfcb41a8acc7864a53cf60fb        0  transaction    0.35   \n",
       "16379   eb540099db834cf59001f83a4561aef3        0  transaction    4.74   \n",
       "108268  eb540099db834cf59001f83a4561aef3        0  transaction    5.09   \n",
       "228700  eb540099db834cf59001f83a4561aef3        0  transaction    7.40   \n",
       "269818  eb540099db834cf59001f83a4561aef3        0  transaction    8.78   \n",
       "\n",
       "        reward_rcvd  time  first_time  offer_rcvd_count  \n",
       "22092           0.0    18        18.0                 0  \n",
       "109815          0.0   324        18.0                 0  \n",
       "292962          0.0   654        18.0                 0  \n",
       "109340          0.0   324       324.0                 0  \n",
       "142347          0.0   378       324.0                 0  \n",
       "259644          0.0   576       324.0                 0  \n",
       "106812          0.0   306       306.0                 0  \n",
       "110707          0.0   330       306.0                 0  \n",
       "184609          0.0   444       306.0                 0  \n",
       "287598          0.0   636       306.0                 0  \n",
       "292894          0.0   654       306.0                 0  \n",
       "69477           0.0   174       174.0                 0  \n",
       "87239           0.0   222       174.0                 0  \n",
       "163610          0.0   408       174.0                 0  \n",
       "243317          0.0   570       174.0                 0  \n",
       "263150          0.0   582       582.0                 0  \n",
       "16379           0.0     6         6.0                 0  \n",
       "108268          0.0   318         6.0                 0  \n",
       "228700          0.0   528         6.0                 0  \n",
       "269818          0.0   594         6.0                 0  "
      ]
     },
     "execution_count": 66,
     "metadata": {},
     "output_type": "execute_result"
    }
   ],
   "source": [
    "transcript_df[transcript_df['person'].isin(no_offers_list)].sort_values(by = ['person','time'])"
   ]
  },
  {
   "cell_type": "markdown",
   "metadata": {},
   "source": [
    "Take a look at the customers that didn't receive any offers (6) <br> *Found that they each had transactions only. <br> Interesting that they didn't receive or view any offers despite having a customer profile.* <br> **Idea: use these customers as a baseline for time between transactions without offer influence (A/B test).** \n",
    "<br> - I don't know how these customers provide a useful baseline set. "
   ]
  },
  {
   "cell_type": "code",
   "execution_count": 69,
   "metadata": {},
   "outputs": [
    {
     "data": {
      "text/html": [
       "<div>\n",
       "<style scoped>\n",
       "    .dataframe tbody tr th:only-of-type {\n",
       "        vertical-align: middle;\n",
       "    }\n",
       "\n",
       "    .dataframe tbody tr th {\n",
       "        vertical-align: top;\n",
       "    }\n",
       "\n",
       "    .dataframe thead th {\n",
       "        text-align: right;\n",
       "    }\n",
       "</style>\n",
       "<table border=\"1\" class=\"dataframe\">\n",
       "  <thead>\n",
       "    <tr style=\"text-align: right;\">\n",
       "      <th></th>\n",
       "      <th>id</th>\n",
       "      <th>member_date</th>\n",
       "      <th>member_year</th>\n",
       "      <th>member_month</th>\n",
       "      <th>gender</th>\n",
       "      <th>age</th>\n",
       "      <th>income</th>\n",
       "      <th>known_prof</th>\n",
       "    </tr>\n",
       "  </thead>\n",
       "  <tbody>\n",
       "    <tr>\n",
       "      <th>872</th>\n",
       "      <td>c6e579c6821c41d1a7a6a9cf936e91bb</td>\n",
       "      <td>2017-10-14</td>\n",
       "      <td>2017</td>\n",
       "      <td>10</td>\n",
       "      <td>F</td>\n",
       "      <td>72</td>\n",
       "      <td>35000.0</td>\n",
       "      <td>True</td>\n",
       "    </tr>\n",
       "    <tr>\n",
       "      <th>5425</th>\n",
       "      <td>da7a7c0dcfcb41a8acc7864a53cf60fb</td>\n",
       "      <td>2017-08-01</td>\n",
       "      <td>2017</td>\n",
       "      <td>8</td>\n",
       "      <td>NaN</td>\n",
       "      <td>118</td>\n",
       "      <td>NaN</td>\n",
       "      <td>False</td>\n",
       "    </tr>\n",
       "    <tr>\n",
       "      <th>5639</th>\n",
       "      <td>eb540099db834cf59001f83a4561aef3</td>\n",
       "      <td>2017-09-29</td>\n",
       "      <td>2017</td>\n",
       "      <td>9</td>\n",
       "      <td>F</td>\n",
       "      <td>66</td>\n",
       "      <td>34000.0</td>\n",
       "      <td>True</td>\n",
       "    </tr>\n",
       "    <tr>\n",
       "      <th>6789</th>\n",
       "      <td>3a4874d8f0ef42b9a1b72294902afea9</td>\n",
       "      <td>2016-08-16</td>\n",
       "      <td>2016</td>\n",
       "      <td>8</td>\n",
       "      <td>F</td>\n",
       "      <td>55</td>\n",
       "      <td>88000.0</td>\n",
       "      <td>True</td>\n",
       "    </tr>\n",
       "    <tr>\n",
       "      <th>14763</th>\n",
       "      <td>ae8111e7e8cd4b60a8d35c42c1110555</td>\n",
       "      <td>2017-01-06</td>\n",
       "      <td>2017</td>\n",
       "      <td>1</td>\n",
       "      <td>F</td>\n",
       "      <td>54</td>\n",
       "      <td>72000.0</td>\n",
       "      <td>True</td>\n",
       "    </tr>\n",
       "    <tr>\n",
       "      <th>15391</th>\n",
       "      <td>12ede229379747bd8d74ccdc20097ca3</td>\n",
       "      <td>2015-10-05</td>\n",
       "      <td>2015</td>\n",
       "      <td>10</td>\n",
       "      <td>M</td>\n",
       "      <td>91</td>\n",
       "      <td>70000.0</td>\n",
       "      <td>True</td>\n",
       "    </tr>\n",
       "  </tbody>\n",
       "</table>\n",
       "</div>"
      ],
      "text/plain": [
       "                                     id member_date  member_year  \\\n",
       "872    c6e579c6821c41d1a7a6a9cf936e91bb  2017-10-14         2017   \n",
       "5425   da7a7c0dcfcb41a8acc7864a53cf60fb  2017-08-01         2017   \n",
       "5639   eb540099db834cf59001f83a4561aef3  2017-09-29         2017   \n",
       "6789   3a4874d8f0ef42b9a1b72294902afea9  2016-08-16         2016   \n",
       "14763  ae8111e7e8cd4b60a8d35c42c1110555  2017-01-06         2017   \n",
       "15391  12ede229379747bd8d74ccdc20097ca3  2015-10-05         2015   \n",
       "\n",
       "       member_month gender  age   income  known_prof  \n",
       "872              10      F   72  35000.0        True  \n",
       "5425              8    NaN  118      NaN       False  \n",
       "5639              9      F   66  34000.0        True  \n",
       "6789              8      F   55  88000.0        True  \n",
       "14763             1      F   54  72000.0        True  \n",
       "15391            10      M   91  70000.0        True  "
      ]
     },
     "execution_count": 69,
     "metadata": {},
     "output_type": "execute_result"
    }
   ],
   "source": [
    "profile_df[profile_df['id'].isin(no_offers_list)]"
   ]
  },
  {
   "cell_type": "markdown",
   "metadata": {},
   "source": [
    "Pivot each offer_id as a seperate column..."
   ]
  },
  {
   "cell_type": "code",
   "execution_count": null,
   "metadata": {},
   "outputs": [],
   "source": [
    "## This is where I left off\n",
    "## Thinking of using the pivot table to create an abbreviated sequence array [0,1,0,0,1,1]\n",
    "## Then use those to compare and identify the customer list of similar sequences\n",
    "## Be sure to note the order or create a dictionary (probably best idea) so values can be linked back to offer frame"
   ]
  },
  {
   "cell_type": "code",
   "execution_count": 68,
   "metadata": {},
   "outputs": [
    {
     "data": {
      "text/html": [
       "<div>\n",
       "<style scoped>\n",
       "    .dataframe tbody tr th:only-of-type {\n",
       "        vertical-align: middle;\n",
       "    }\n",
       "\n",
       "    .dataframe tbody tr th {\n",
       "        vertical-align: top;\n",
       "    }\n",
       "\n",
       "    .dataframe thead th {\n",
       "        text-align: right;\n",
       "    }\n",
       "</style>\n",
       "<table border=\"1\" class=\"dataframe\">\n",
       "  <thead>\n",
       "    <tr style=\"text-align: right;\">\n",
       "      <th>offer_id</th>\n",
       "      <th>person</th>\n",
       "      <th>0b1e1539f2cc45b7b9fa7c272da2e1d7</th>\n",
       "      <th>2298d6c36e964ae4a3e7e9706d1fb8c2</th>\n",
       "      <th>2906b810c7d4411798c6938adc9daaa5</th>\n",
       "      <th>3f207df678b143eea3cee63160fa8bed</th>\n",
       "      <th>4d5c57ea9a6940dd891ad53e9dbe8da0</th>\n",
       "      <th>5a8bc65990b245e5a138643cd4eb9837</th>\n",
       "      <th>9b98b8c7a33c4b65b9aebfe6a799e6d9</th>\n",
       "      <th>ae264e3637204a6fb9bb56bc8210ddfd</th>\n",
       "      <th>f19421c1d4aa40978ebb69ca19b0e20d</th>\n",
       "      <th>fafdcd668e3743c1bb461111dcafc2a4</th>\n",
       "    </tr>\n",
       "  </thead>\n",
       "  <tbody>\n",
       "    <tr>\n",
       "      <th>0</th>\n",
       "      <td>0009655768c64bdeb2e877511632db8f</td>\n",
       "      <td>NaN</td>\n",
       "      <td>NaN</td>\n",
       "      <td>576.0</td>\n",
       "      <td>336.0</td>\n",
       "      <td>NaN</td>\n",
       "      <td>168.0</td>\n",
       "      <td>NaN</td>\n",
       "      <td>NaN</td>\n",
       "      <td>408.0</td>\n",
       "      <td>504.0</td>\n",
       "    </tr>\n",
       "    <tr>\n",
       "      <th>1</th>\n",
       "      <td>00116118485d4dfda04fdbaba9a87b5c</td>\n",
       "      <td>NaN</td>\n",
       "      <td>NaN</td>\n",
       "      <td>NaN</td>\n",
       "      <td>NaN</td>\n",
       "      <td>NaN</td>\n",
       "      <td>NaN</td>\n",
       "      <td>NaN</td>\n",
       "      <td>NaN</td>\n",
       "      <td>372.0</td>\n",
       "      <td>NaN</td>\n",
       "    </tr>\n",
       "    <tr>\n",
       "      <th>2</th>\n",
       "      <td>0011e0d4e6b944f998e987f904e8c1e5</td>\n",
       "      <td>408.0</td>\n",
       "      <td>168.0</td>\n",
       "      <td>NaN</td>\n",
       "      <td>0.0</td>\n",
       "      <td>NaN</td>\n",
       "      <td>336.0</td>\n",
       "      <td>504.0</td>\n",
       "      <td>NaN</td>\n",
       "      <td>NaN</td>\n",
       "      <td>NaN</td>\n",
       "    </tr>\n",
       "    <tr>\n",
       "      <th>3</th>\n",
       "      <td>0020c2b971eb4e9188eac86d93036a77</td>\n",
       "      <td>NaN</td>\n",
       "      <td>NaN</td>\n",
       "      <td>NaN</td>\n",
       "      <td>NaN</td>\n",
       "      <td>408.0</td>\n",
       "      <td>504.0</td>\n",
       "      <td>NaN</td>\n",
       "      <td>168.0</td>\n",
       "      <td>NaN</td>\n",
       "      <td>168.0</td>\n",
       "    </tr>\n",
       "    <tr>\n",
       "      <th>4</th>\n",
       "      <td>0020ccbbb6d84e358d3414a3ff76cffd</td>\n",
       "      <td>NaN</td>\n",
       "      <td>168.0</td>\n",
       "      <td>NaN</td>\n",
       "      <td>NaN</td>\n",
       "      <td>NaN</td>\n",
       "      <td>408.0</td>\n",
       "      <td>504.0</td>\n",
       "      <td>NaN</td>\n",
       "      <td>336.0</td>\n",
       "      <td>NaN</td>\n",
       "    </tr>\n",
       "    <tr>\n",
       "      <th>...</th>\n",
       "      <td>...</td>\n",
       "      <td>...</td>\n",
       "      <td>...</td>\n",
       "      <td>...</td>\n",
       "      <td>...</td>\n",
       "      <td>...</td>\n",
       "      <td>...</td>\n",
       "      <td>...</td>\n",
       "      <td>...</td>\n",
       "      <td>...</td>\n",
       "      <td>...</td>\n",
       "    </tr>\n",
       "    <tr>\n",
       "      <th>16989</th>\n",
       "      <td>fff3ba4757bd42088c044ca26d73817a</td>\n",
       "      <td>NaN</td>\n",
       "      <td>NaN</td>\n",
       "      <td>492.0</td>\n",
       "      <td>NaN</td>\n",
       "      <td>NaN</td>\n",
       "      <td>420.0</td>\n",
       "      <td>168.0</td>\n",
       "      <td>NaN</td>\n",
       "      <td>NaN</td>\n",
       "      <td>0.0</td>\n",
       "    </tr>\n",
       "    <tr>\n",
       "      <th>16990</th>\n",
       "      <td>fff7576017104bcc8677a8d63322b5e1</td>\n",
       "      <td>NaN</td>\n",
       "      <td>NaN</td>\n",
       "      <td>NaN</td>\n",
       "      <td>NaN</td>\n",
       "      <td>168.0</td>\n",
       "      <td>NaN</td>\n",
       "      <td>576.0</td>\n",
       "      <td>408.0</td>\n",
       "      <td>NaN</td>\n",
       "      <td>252.0</td>\n",
       "    </tr>\n",
       "    <tr>\n",
       "      <th>16991</th>\n",
       "      <td>fff8957ea8b240a6b5e634b6ee8eafcf</td>\n",
       "      <td>NaN</td>\n",
       "      <td>NaN</td>\n",
       "      <td>NaN</td>\n",
       "      <td>504.0</td>\n",
       "      <td>576.0</td>\n",
       "      <td>NaN</td>\n",
       "      <td>NaN</td>\n",
       "      <td>NaN</td>\n",
       "      <td>NaN</td>\n",
       "      <td>408.0</td>\n",
       "    </tr>\n",
       "    <tr>\n",
       "      <th>16992</th>\n",
       "      <td>fffad4f4828548d1b5583907f2e9906b</td>\n",
       "      <td>NaN</td>\n",
       "      <td>NaN</td>\n",
       "      <td>NaN</td>\n",
       "      <td>NaN</td>\n",
       "      <td>NaN</td>\n",
       "      <td>168.0</td>\n",
       "      <td>576.0</td>\n",
       "      <td>NaN</td>\n",
       "      <td>204.0</td>\n",
       "      <td>NaN</td>\n",
       "    </tr>\n",
       "    <tr>\n",
       "      <th>16993</th>\n",
       "      <td>ffff82501cea40309d5fdd7edcca4a07</td>\n",
       "      <td>168.0</td>\n",
       "      <td>NaN</td>\n",
       "      <td>440.0</td>\n",
       "      <td>NaN</td>\n",
       "      <td>NaN</td>\n",
       "      <td>NaN</td>\n",
       "      <td>504.0</td>\n",
       "      <td>NaN</td>\n",
       "      <td>NaN</td>\n",
       "      <td>0.0</td>\n",
       "    </tr>\n",
       "  </tbody>\n",
       "</table>\n",
       "<p>16994 rows × 11 columns</p>\n",
       "</div>"
      ],
      "text/plain": [
       "offer_id                            person  0b1e1539f2cc45b7b9fa7c272da2e1d7  \\\n",
       "0         0009655768c64bdeb2e877511632db8f                               NaN   \n",
       "1         00116118485d4dfda04fdbaba9a87b5c                               NaN   \n",
       "2         0011e0d4e6b944f998e987f904e8c1e5                             408.0   \n",
       "3         0020c2b971eb4e9188eac86d93036a77                               NaN   \n",
       "4         0020ccbbb6d84e358d3414a3ff76cffd                               NaN   \n",
       "...                                    ...                               ...   \n",
       "16989     fff3ba4757bd42088c044ca26d73817a                               NaN   \n",
       "16990     fff7576017104bcc8677a8d63322b5e1                               NaN   \n",
       "16991     fff8957ea8b240a6b5e634b6ee8eafcf                               NaN   \n",
       "16992     fffad4f4828548d1b5583907f2e9906b                               NaN   \n",
       "16993     ffff82501cea40309d5fdd7edcca4a07                             168.0   \n",
       "\n",
       "offer_id  2298d6c36e964ae4a3e7e9706d1fb8c2  2906b810c7d4411798c6938adc9daaa5  \\\n",
       "0                                      NaN                             576.0   \n",
       "1                                      NaN                               NaN   \n",
       "2                                    168.0                               NaN   \n",
       "3                                      NaN                               NaN   \n",
       "4                                    168.0                               NaN   \n",
       "...                                    ...                               ...   \n",
       "16989                                  NaN                             492.0   \n",
       "16990                                  NaN                               NaN   \n",
       "16991                                  NaN                               NaN   \n",
       "16992                                  NaN                               NaN   \n",
       "16993                                  NaN                             440.0   \n",
       "\n",
       "offer_id  3f207df678b143eea3cee63160fa8bed  4d5c57ea9a6940dd891ad53e9dbe8da0  \\\n",
       "0                                    336.0                               NaN   \n",
       "1                                      NaN                               NaN   \n",
       "2                                      0.0                               NaN   \n",
       "3                                      NaN                             408.0   \n",
       "4                                      NaN                               NaN   \n",
       "...                                    ...                               ...   \n",
       "16989                                  NaN                               NaN   \n",
       "16990                                  NaN                             168.0   \n",
       "16991                                504.0                             576.0   \n",
       "16992                                  NaN                               NaN   \n",
       "16993                                  NaN                               NaN   \n",
       "\n",
       "offer_id  5a8bc65990b245e5a138643cd4eb9837  9b98b8c7a33c4b65b9aebfe6a799e6d9  \\\n",
       "0                                    168.0                               NaN   \n",
       "1                                      NaN                               NaN   \n",
       "2                                    336.0                             504.0   \n",
       "3                                    504.0                               NaN   \n",
       "4                                    408.0                             504.0   \n",
       "...                                    ...                               ...   \n",
       "16989                                420.0                             168.0   \n",
       "16990                                  NaN                             576.0   \n",
       "16991                                  NaN                               NaN   \n",
       "16992                                168.0                             576.0   \n",
       "16993                                  NaN                             504.0   \n",
       "\n",
       "offer_id  ae264e3637204a6fb9bb56bc8210ddfd  f19421c1d4aa40978ebb69ca19b0e20d  \\\n",
       "0                                      NaN                             408.0   \n",
       "1                                      NaN                             372.0   \n",
       "2                                      NaN                               NaN   \n",
       "3                                    168.0                               NaN   \n",
       "4                                      NaN                             336.0   \n",
       "...                                    ...                               ...   \n",
       "16989                                  NaN                               NaN   \n",
       "16990                                408.0                               NaN   \n",
       "16991                                  NaN                               NaN   \n",
       "16992                                  NaN                             204.0   \n",
       "16993                                  NaN                               NaN   \n",
       "\n",
       "offer_id  fafdcd668e3743c1bb461111dcafc2a4  \n",
       "0                                    504.0  \n",
       "1                                      NaN  \n",
       "2                                      NaN  \n",
       "3                                    168.0  \n",
       "4                                      NaN  \n",
       "...                                    ...  \n",
       "16989                                  0.0  \n",
       "16990                                252.0  \n",
       "16991                                408.0  \n",
       "16992                                  NaN  \n",
       "16993                                  0.0  \n",
       "\n",
       "[16994 rows x 11 columns]"
      ]
     },
     "execution_count": 68,
     "metadata": {},
     "output_type": "execute_result"
    }
   ],
   "source": [
    "transcript_df[transcript_df['event']=='offer received'].pivot_table(index='person', columns='offer_id', values = 'time').reset_index()"
   ]
  },
  {
   "cell_type": "code",
   "execution_count": null,
   "metadata": {},
   "outputs": [],
   "source": []
  },
  {
   "cell_type": "code",
   "execution_count": null,
   "metadata": {},
   "outputs": [],
   "source": []
  },
  {
   "cell_type": "code",
   "execution_count": null,
   "metadata": {},
   "outputs": [],
   "source": [
    "# left off here, was trying to use pivot to get each offer with the time for each row being a customer"
   ]
  },
  {
   "cell_type": "code",
   "execution_count": null,
   "metadata": {},
   "outputs": [],
   "source": [
    "rcv_seq = pd.DataFrame(columns = {'person','offer_1','offer_2','offer_3','offer_4','offer_5','offer_6'})\n",
    "for x in transcript_df['person'].unique()[[0]]:\n",
    "    df_rcv_seq = transcript_df[(transcript_df['person'] == x) # filter down transactions by customer\n",
    "                                &(transcript_df['event']=='offer received')] # filter to only offers received\n",
    "    \n",
    "    rcv_seq = rcv_seq.append([df_rcv_seq.])\n",
    "#     if df_rcv_seq.time.min()>0:\n",
    "#         rcv_seq.append([x,df_1.time.min()])"
   ]
  },
  {
   "cell_type": "code",
   "execution_count": null,
   "metadata": {},
   "outputs": [],
   "source": [
    "transcript_df[transcript_df['event']=='offer received']['offer_rcvd_count']"
   ]
  },
  {
   "cell_type": "markdown",
   "metadata": {},
   "source": [
    "![ChessUrl](https://upload.wikimedia.org/wikipedia/commons/7/71/ChessPawnSpecialMoves.gif \"chess\")"
   ]
  },
  {
   "cell_type": "code",
   "execution_count": null,
   "metadata": {},
   "outputs": [],
   "source": []
  },
  {
   "cell_type": "markdown",
   "metadata": {},
   "source": [
    "## Finding\n",
    "- It appears that there is a specific pattern of the data for customers with a non-zero start time.\n",
    "- These customers might be the test set or part of an A/B test. \n",
    "- The data appears to have a 75/25 split of customers with data since time zero and those with later start times. \n",
    "- **Possible Hypothesis** is a question of importance might be: how to backfill a likely previous unknown history to complete a customer profile?\n",
    "- **Action** lets focus on the transactions with complete start times."
   ]
  },
  {
   "cell_type": "markdown",
   "metadata": {},
   "source": [
    "## Forecast Spending\n",
    "- If spending can be forecasted for a given customer and the probability of offer completion, the next step would be linking known spending in a time period to a given offer that capitalizes providing customer benefit when they need it and lowering the required offer amount since spending had a high probability of occuring. "
   ]
  },
  {
   "cell_type": "code",
   "execution_count": null,
   "metadata": {},
   "outputs": [],
   "source": [
    "# base customer data with complete known history from time = 0\n",
    "customer_base_df = transcript_df[transcript_df['first_time']==0] "
   ]
  },
  {
   "cell_type": "code",
   "execution_count": null,
   "metadata": {},
   "outputs": [],
   "source": [
    "# unique customer \n",
    "customer = customer_base_df.person.unique()[1]"
   ]
  },
  {
   "cell_type": "code",
   "execution_count": null,
   "metadata": {},
   "outputs": [],
   "source": [
    "customer_base_df[customer_base_df['person'] == customer]"
   ]
  },
  {
   "cell_type": "code",
   "execution_count": null,
   "metadata": {},
   "outputs": [],
   "source": [
    "# Find the time between received and view (tbrv)\n",
    "customer_list = customer_base_df.person.unique()[0:3]\n",
    "offer_view = copy.deepcopy(customer_base_df)\n",
    "offer_view['tbrv'] = -1\n",
    "\n",
    "for customer in customer_list:\n",
    "    offer_view1 = offer_view[offer_view['person'] == customer]\n",
    "    # Create metrics or counts of transaction data at this point for the customer\n",
    "    # However, it will cause duplicate values across the transactions\n",
    "    offer_view1 = offer_view1[(offer_view1['event']=='offer received')|(offer_view1['event']=='offer viewed')]\n",
    "    offer_view1_len = len(offer_view1.index)\n",
    "    # ^This filters the transaction data to offer received and viewed records by customer\n",
    "    \n",
    "    for x in range(offer_view1_len): \n",
    "        if (offer_view1['event'].loc[offer_view1.index[x]] == 'offer received'):\n",
    "            temp_offer = offer_view1['offer_id'].loc[offer_view1.index[x]]\n",
    "            temp_offer_index = offer_view1.index[x]\n",
    "            temp_view = offer_view1[offer_view1['offer_id'] == temp_offer]\n",
    "            temp_view_index = temp_view.index\n",
    "            \n",
    "            if (offer_view1['event'].loc[offer_view1.index[x+1]]=='offer viewed'):   \n",
    "                print(offer_view1.time.loc[offer_view1.index[x+1]]-offer_view1.time.loc[offer_view1.index[x]])\n",
    "                offer_view['tbrv'].loc[offer_view1.index[x]] = (offer_view1.time.loc[offer_view1.index[x+1]]-offer_view1.time.loc[offer_view1.index[x]])"
   ]
  },
  {
   "cell_type": "code",
   "execution_count": null,
   "metadata": {},
   "outputs": [],
   "source": [
    "temp_view"
   ]
  },
  {
   "cell_type": "code",
   "execution_count": null,
   "metadata": {},
   "outputs": [],
   "source": [
    "offer_view[offer_view['tbrv']>-1]"
   ]
  },
  {
   "cell_type": "code",
   "execution_count": null,
   "metadata": {},
   "outputs": [],
   "source": [
    "offer_view1[offer_view1.index == 110829]"
   ]
  },
  {
   "cell_type": "code",
   "execution_count": null,
   "metadata": {},
   "outputs": [],
   "source": [
    "transcript_df[transcript_df['person'] == '62b12261e5a34e81ba0a6259b5d6ba90']"
   ]
  },
  {
   "cell_type": "code",
   "execution_count": null,
   "metadata": {},
   "outputs": [],
   "source": [
    "# first customer with a member date - transaction record\n",
    "transcript_df[transcript_df['person'] == '77388a70eaf14433b4efc5d01fa947bf']\n",
    "# interesting to note is that it does not seem as if the transaction date goes to the maximum time in the data"
   ]
  },
  {
   "cell_type": "code",
   "execution_count": null,
   "metadata": {},
   "outputs": [],
   "source": [
    "# this looks at someone that has a transaction at the max time in the dataset.\n",
    "transcript_df[transcript_df['person'] == 'c02b10e8752c4d8e9b73f918558531f7']"
   ]
  },
  {
   "cell_type": "code",
   "execution_count": null,
   "metadata": {},
   "outputs": [],
   "source": []
  },
  {
   "cell_type": "code",
   "execution_count": null,
   "metadata": {},
   "outputs": [],
   "source": []
  },
  {
   "cell_type": "code",
   "execution_count": null,
   "metadata": {},
   "outputs": [],
   "source": []
  },
  {
   "cell_type": "markdown",
   "metadata": {},
   "source": [
    "**Time between receiving, viewing and completing the offer for each customer since time = 0.**"
   ]
  },
  {
   "cell_type": "code",
   "execution_count": null,
   "metadata": {},
   "outputs": [],
   "source": [
    "for x in transcript_df['person'].unique()[0:3]:\n",
    "    print(x)\n",
    "    df_1 = transcript_df[transcript_df['person'] == x]"
   ]
  },
  {
   "cell_type": "code",
   "execution_count": null,
   "metadata": {},
   "outputs": [],
   "source": [
    "for x in transcript_df['person'].unique()[0:3]:\n",
    "    print(x)\n",
    "    df_1 = transcript_df[transcript_df['person'] == x]\n",
    "    df_1 = df_1[(df_1['event']=='transaction')|(df_1['event']=='offer completed')]\n",
    "    for i in df_1['time'].unique():\n",
    "        df_2 = df_1[df_1['time']==i]\n",
    "        if len(df_2)>1:\n",
    "            v = df_2[df_2['event']=='transaction']['amount'].values[0]\n",
    "            print(v)\n",
    "            df_2['amount'] = df_2['amount'].fillna(v)\n",
    "            print(df_2)\n",
    "#             \n",
    "        "
   ]
  },
  {
   "cell_type": "code",
   "execution_count": null,
   "metadata": {},
   "outputs": [],
   "source": [
    "df_1"
   ]
  },
  {
   "cell_type": "code",
   "execution_count": null,
   "metadata": {},
   "outputs": [],
   "source": [
    "transcript_df['person'].unique()[2]"
   ]
  },
  {
   "cell_type": "code",
   "execution_count": null,
   "metadata": {},
   "outputs": [],
   "source": [
    "transcript_df[transcript_df['person'] == 'e2127556f4f64592b11af22de27a7932']"
   ]
  },
  {
   "cell_type": "code",
   "execution_count": null,
   "metadata": {},
   "outputs": [],
   "source": [
    "x_df = transcript_df[transcript_df['person'] == '9fa9ae8f57894cc9a3b8a9bbe0fc1b2f']"
   ]
  },
  {
   "cell_type": "code",
   "execution_count": null,
   "metadata": {},
   "outputs": [],
   "source": [
    "for x in x_df: \n",
    "    if x_df['time'].count()>1:\n",
    "        if "
   ]
  },
  {
   "cell_type": "code",
   "execution_count": null,
   "metadata": {},
   "outputs": [],
   "source": [
    "transcript_df.iloc[12658]"
   ]
  },
  {
   "cell_type": "code",
   "execution_count": null,
   "metadata": {},
   "outputs": [],
   "source": [
    "transcript_df['value'][1].keys()\n",
    "transcript_df['value'][1].values()"
   ]
  },
  {
   "cell_type": "code",
   "execution_count": null,
   "metadata": {},
   "outputs": [],
   "source": [
    "x = eval(transcript_df.value[1])\n",
    "x['offer id']"
   ]
  },
  {
   "cell_type": "code",
   "execution_count": null,
   "metadata": {},
   "outputs": [],
   "source": [
    "df_test = pd.json_normalize(transcript_df['value'].to_dict())"
   ]
  },
  {
   "cell_type": "code",
   "execution_count": null,
   "metadata": {},
   "outputs": [],
   "source": [
    "transcript_df.event.unique()"
   ]
  },
  {
   "cell_type": "code",
   "execution_count": null,
   "metadata": {},
   "outputs": [],
   "source": [
    "transcript_df[transcript_df['event']=='offer received'].value.unique()"
   ]
  },
  {
   "cell_type": "code",
   "execution_count": null,
   "metadata": {},
   "outputs": [],
   "source": [
    "transcript_df[transcript_df['event']=='offer viewed'].value.unique()"
   ]
  },
  {
   "cell_type": "code",
   "execution_count": null,
   "metadata": {},
   "outputs": [],
   "source": [
    "transcript_df[transcript_df['event']=='offer completed'].value.unique()"
   ]
  },
  {
   "cell_type": "code",
   "execution_count": null,
   "metadata": {},
   "outputs": [],
   "source": [
    "transcript_df[transcript_df['event']=='transaction'].value.unique()"
   ]
  },
  {
   "cell_type": "code",
   "execution_count": null,
   "metadata": {},
   "outputs": [],
   "source": []
  },
  {
   "cell_type": "code",
   "execution_count": null,
   "metadata": {},
   "outputs": [],
   "source": []
  },
  {
   "cell_type": "code",
   "execution_count": null,
   "metadata": {},
   "outputs": [],
   "source": []
  },
  {
   "cell_type": "code",
   "execution_count": null,
   "metadata": {},
   "outputs": [],
   "source": []
  },
  {
   "cell_type": "code",
   "execution_count": null,
   "metadata": {},
   "outputs": [],
   "source": []
  }
 ],
 "metadata": {
  "kernelspec": {
   "display_name": "Python 3.7.7 64-bit ('base': conda)",
   "language": "python",
   "name": "python37764bitbaseconda49e56cb5a99b432185e659de95e0280a"
  },
  "language_info": {
   "codemirror_mode": {
    "name": "ipython",
    "version": 3
   },
   "file_extension": ".py",
   "mimetype": "text/x-python",
   "name": "python",
   "nbconvert_exporter": "python",
   "pygments_lexer": "ipython3",
   "version": "3.7.7"
  }
 },
 "nbformat": 4,
 "nbformat_minor": 4
}
